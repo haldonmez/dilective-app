{
 "cells": [
  {
   "cell_type": "code",
   "execution_count": 1,
   "metadata": {},
   "outputs": [
    {
     "data": {
      "image/png": "[encoded data removed]",
      "text/plain": [
       "<Figure size 300x300 with 1 Axes>"
      ]
     },
     "metadata": {},
     "output_type": "display_data"
    },
    {
     "name": "stdout",
     "output_type": "stream",
     "text": [
      "Image saved to C:\\Users\\halil/Desktop/image_raw.png\n"
     ]
    }
   ],
   "source": [
    "import mysql.connector\n",
    "import config\n",
    "import matplotlib.pyplot as plt\n",
    "from PIL import Image\n",
    "import io\n",
    "import os\n",
    "\n",
    "# Use the variables from config file\n",
    "password = config.password\n",
    "\n",
    "# Connect to MySQL and select the database\n",
    "MyDB = mysql.connector.connect(\n",
    "    host=\"localhost\",\n",
    "    user=\"root\",\n",
    "    password=password,\n",
    "    database=\"culs\"\n",
    ")\n",
    "\n",
    "MyCursor = MyDB.cursor()\n",
    "\n",
    "def fetch_image_blob(image_id):\n",
    "    SQLStatement = \"SELECT Photo FROM Images WHERE id = %s\"\n",
    "    MyCursor.execute(SQLStatement, (image_id,))\n",
    "    blob_data = MyCursor.fetchone()[0]\n",
    "    return blob_data\n",
    "\n",
    "def plot_image_from_blob(blob_data):\n",
    "    # Convert blob data to PIL Image\n",
    "    image = Image.open('image_raw.png')\n",
    "    \n",
    "    # Display the image using matplotlib\n",
    "    plt.figure(figsize=(3,3))  # Adjust figure size as needed\n",
    "    plt.imshow(image)\n",
    "    plt.axis('off')  # Hide axes\n",
    "    plt.show()\n",
    "\n",
    "def save_image_to_desktop(image_id):\n",
    "    blob_data = fetch_image_blob(image_id)\n",
    "    file_path = os.path.expanduser(\"~/Desktop/image_raw.png\")  # Adjust the file path as needed\n",
    "    with open(file_path, 'wb') as file:\n",
    "        file.write(blob_data)\n",
    "    print(f\"Image saved to {file_path}\")\n",
    "\n",
    "# Example: Fetching and plotting the 10th image (image_id = 10)\n",
    "image_id = 8\n",
    "blob_data = fetch_image_blob(image_id)\n",
    "plot_image_from_blob(blob_data)\n",
    "save_image_to_desktop(image_id)"
   ]
  }
 ],
 "metadata": {
  "kernelspec": {
   "display_name": "Python 3",
   "language": "python",
   "name": "python3"
  },
  "language_info": {
   "codemirror_mode": {
    "name": "ipython",
    "version": 3
   },
   "file_extension": ".py",
   "mimetype": "text/x-python",
   "name": "python",
   "nbconvert_exporter": "python",
   "pygments_lexer": "ipython3",
   "version": "3.12.0"
  }
 },
 "nbformat": 4,
 "nbformat_minor": 2
}
